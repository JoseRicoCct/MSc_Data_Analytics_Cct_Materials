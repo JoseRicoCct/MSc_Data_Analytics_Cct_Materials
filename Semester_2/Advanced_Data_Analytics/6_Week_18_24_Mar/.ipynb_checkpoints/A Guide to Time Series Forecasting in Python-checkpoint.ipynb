{
 "cells": [
  {
   "cell_type": "code",
   "execution_count": 1,
   "metadata": {},
   "outputs": [],
   "source": [
    "#pip install statsmodels"
   ]
  },
  {
   "cell_type": "code",
   "execution_count": null,
   "metadata": {},
   "outputs": [],
   "source": [
    "pip install yfinance"
   ]
  },
  {
   "cell_type": "code",
   "execution_count": 3,
   "metadata": {},
   "outputs": [],
   "source": [
    "#pip install pandas_datareader"
   ]
  },
  {
   "cell_type": "code",
   "execution_count": 4,
   "metadata": {},
   "outputs": [
    {
     "ename": "ModuleNotFoundError",
     "evalue": "No module named 'yfinance'",
     "output_type": "error",
     "traceback": [
      "\u001b[1;31m---------------------------------------------------------------------------\u001b[0m",
      "\u001b[1;31mModuleNotFoundError\u001b[0m                       Traceback (most recent call last)",
      "Cell \u001b[1;32mIn[4], line 4\u001b[0m\n\u001b[0;32m      2\u001b[0m \u001b[38;5;28;01mimport\u001b[39;00m \u001b[38;5;21;01mpandas_datareader\u001b[39;00m \u001b[38;5;28;01mas\u001b[39;00m \u001b[38;5;21;01mpdr\u001b[39;00m \n\u001b[0;32m      3\u001b[0m \u001b[38;5;28;01mimport\u001b[39;00m \u001b[38;5;21;01mdatetime\u001b[39;00m\n\u001b[1;32m----> 4\u001b[0m \u001b[38;5;28;01mimport\u001b[39;00m \u001b[38;5;21;01myfinance\u001b[39;00m \u001b[38;5;28;01mas\u001b[39;00m \u001b[38;5;21;01myfin\u001b[39;00m\n\u001b[0;32m      5\u001b[0m yfin\u001b[38;5;241m.\u001b[39mpdr_override()\n\u001b[0;32m      7\u001b[0m \u001b[38;5;28;01mimport\u001b[39;00m \u001b[38;5;21;01mmatplotlib\u001b[39;00m\u001b[38;5;21;01m.\u001b[39;00m\u001b[38;5;21;01mpyplot\u001b[39;00m \u001b[38;5;28;01mas\u001b[39;00m \u001b[38;5;21;01mplt\u001b[39;00m\n",
      "\u001b[1;31mModuleNotFoundError\u001b[0m: No module named 'yfinance'"
     ]
    }
   ],
   "source": [
    "import pandas as pd \n",
    "import pandas_datareader as pdr \n",
    "import datetime\n",
    "import yfinance as yfin\n",
    "yfin.pdr_override()\n",
    "\n",
    "import matplotlib.pyplot as plt\n",
    "import seaborn as sns\n",
    "\n",
    "from statsmodels.tsa.statespace.sarimax import SARIMAX\n",
    "from statsmodels.tsa.arima_model import ARIMA\n",
    "\n",
    "#relax the display limits on columns and rows\n",
    "pd.set_option('display.max_columns', None)\n",
    "pd.set_option('display.max_rows', None)\n",
    "\n",
    "import warnings\n",
    "warnings.filterwarnings('ignore')\n"
   ]
  },
  {
   "cell_type": "code",
   "execution_count": null,
   "metadata": {},
   "outputs": [],
   "source": [
    "btc = yfin.download(['BTC-USD'], start=\"2018-01-01\",end=\"2020-12-2\")\n",
    "\n",
    "btc.head(5)"
   ]
  },
  {
   "cell_type": "code",
   "execution_count": null,
   "metadata": {},
   "outputs": [],
   "source": [
    "btc = btc['Close']\n",
    "btc.to_csv(\"btc.csv\")\n",
    "btc = pd.read_csv(\"btc.csv\")\n",
    "btc.head(5)"
   ]
  },
  {
   "cell_type": "code",
   "execution_count": null,
   "metadata": {},
   "outputs": [],
   "source": [
    "btc.index = pd.to_datetime(btc['Date'], format='%Y-%m-%d')\n",
    "del btc['Date']\n",
    "\n",
    "btc.head(5)"
   ]
  },
  {
   "cell_type": "code",
   "execution_count": null,
   "metadata": {},
   "outputs": [],
   "source": [
    "sns.set()\n",
    "plt.ylabel('BTC Price')\n",
    "plt.xlabel('Date')\n",
    "plt.xticks(rotation=45)\n",
    "plt.plot(btc.index, btc['Close'], )\n",
    "plt.show()"
   ]
  },
  {
   "cell_type": "code",
   "execution_count": null,
   "metadata": {},
   "outputs": [],
   "source": [
    "train = btc[btc.index < pd.to_datetime(\"2020-11-01\", format='%Y-%m-%d')]\n",
    "test = btc[btc.index >= pd.to_datetime(\"2020-11-01\", format='%Y-%m-%d')]\n",
    "test"
   ]
  },
  {
   "cell_type": "code",
   "execution_count": null,
   "metadata": {},
   "outputs": [],
   "source": [
    "plt.plot(train, color = \"black\", label = 'Training')\n",
    "plt.plot(test, color = \"red\", label = 'Testing')\n",
    "plt.ylabel('BTC Price')\n",
    "plt.xlabel('Date')\n",
    "plt.xticks(rotation=45)\n",
    "plt.title(\"Train/Test split for BTC Data\")\n",
    "plt.show()"
   ]
  },
  {
   "cell_type": "code",
   "execution_count": null,
   "metadata": {},
   "outputs": [],
   "source": [
    "y = train['Close']\n",
    "\n",
    "ARMAmodel = SARIMAX(y, order = (1, 0, 1))\n",
    "ARMAmodel = ARMAmodel.fit()\n",
    "\n",
    "y_pred = ARMAmodel.get_forecast(len(test.index))\n",
    "y_pred_df = y_pred.conf_int(alpha = 0.05) \n",
    "y_pred_df[\"Predictions\"] = ARMAmodel.predict(start = y_pred_df.index[0], \n",
    "                                             end = y_pred_df.index[-1])\n",
    "y_pred_df.index = test.index\n",
    "y_pred_outARMA = y_pred_df[\"Predictions\"] \n",
    "\n",
    "plt.plot(train, color = \"black\", label = 'Training')\n",
    "plt.plot(test, color = \"red\", label = 'Testing')\n",
    "plt.ylabel('BTC Price')\n",
    "plt.xlabel('Date')\n",
    "plt.xticks(rotation=45)\n",
    "plt.title(\"Train/Test split for BTC Data\")\n",
    "plt.plot(y_pred_outARMA, color='green', label = 'ARMA Predictions')\n",
    "plt.legend()\n",
    "plt.show()"
   ]
  },
  {
   "cell_type": "code",
   "execution_count": null,
   "metadata": {},
   "outputs": [],
   "source": [
    "import numpy as np\n",
    "from sklearn.metrics import mean_squared_error\n",
    "\n",
    "arma_rmse = np.sqrt(mean_squared_error(test[\"Close\"].values, y_pred_df[\"Predictions\"]))\n",
    "print(\"ARMA RMSE: \",arma_rmse)"
   ]
  },
  {
   "cell_type": "code",
   "execution_count": null,
   "metadata": {},
   "outputs": [],
   "source": [
    "#ARIMAmodel = SARIMAX(y, order = (2, 2, 2))\n",
    "#ARIMAmodel = SARIMAX(y, order = (2, 3, 2))\n",
    "ARIMAmodel = SARIMAX(y, order = (5, 4, 2))\n",
    "ARIMAmodel = ARIMAmodel.fit()\n",
    "\n",
    "y_pred = ARIMAmodel.get_forecast(len(test.index))\n",
    "y_pred_df = y_pred.conf_int(alpha = 0.05) \n",
    "y_pred_df[\"Predictions\"] = ARIMAmodel.predict(start = y_pred_df.index[0],\n",
    "                                              end = y_pred_df.index[-1])\n",
    "y_pred_df.index = test.index\n",
    "y_pred_outARIMA = y_pred_df[\"Predictions\"]"
   ]
  },
  {
   "cell_type": "code",
   "execution_count": null,
   "metadata": {},
   "outputs": [],
   "source": [
    "plt.plot(train, color = \"black\", label = 'Training')\n",
    "plt.plot(test, color = \"red\", label = 'Testing')\n",
    "plt.ylabel('BTC Price')\n",
    "plt.xlabel('Date')\n",
    "plt.xticks(rotation=45)\n",
    "plt.title(\"Train/Test split for BTC Data\")\n",
    "plt.plot(y_pred_outARMA, color='green', label = 'ARMA Predictions')\n",
    "plt.plot(y_pred_outARIMA, color='Yellow', label = 'ARIMA Predictions')\n",
    "plt.legend()\n",
    "plt.show()"
   ]
  },
  {
   "cell_type": "code",
   "execution_count": null,
   "metadata": {},
   "outputs": [],
   "source": [
    "arma_rmse = np.sqrt(mean_squared_error(test[\"Close\"].values, y_pred_df[\"Predictions\"]))\n",
    "print(\"ARIMA RMSE: \",arma_rmse)"
   ]
  },
  {
   "cell_type": "code",
   "execution_count": null,
   "metadata": {},
   "outputs": [],
   "source": [
    "SARIMAXmodel = SARIMAX(y, order = (2,2,2), seasonal_order=(2,2,2,12))\n",
    "SARIMAXmodel = SARIMAXmodel.fit()\n",
    "\n",
    "y_pred = SARIMAXmodel.get_forecast(len(test.index))\n",
    "y_pred_df = y_pred.conf_int(alpha = 0.05) \n",
    "y_pred_df[\"Predictions\"] = SARIMAXmodel.predict(start = y_pred_df.index[0],\n",
    "                                                end = y_pred_df.index[-1])\n",
    "y_pred_df.index = test.index\n",
    "y_pred_outSARIMAX = y_pred_df[\"Predictions\"] "
   ]
  },
  {
   "cell_type": "code",
   "execution_count": null,
   "metadata": {},
   "outputs": [],
   "source": [
    "plt.plot(train, color = \"black\", label = 'Training')\n",
    "plt.plot(test, color = \"red\", label = 'Testing')\n",
    "plt.ylabel('BTC Price')\n",
    "plt.xlabel('Date')\n",
    "plt.xticks(rotation=45)\n",
    "plt.title(\"Train/Test split for BTC Data\")\n",
    "plt.plot(y_pred_outARMA, color='green', label = 'ARMA Predictions')\n",
    "plt.plot(y_pred_outARIMA, color='Yellow', label = 'ARIMA Predictions')\n",
    "plt.plot(y_pred_outSARIMAX, color='Blue', label = 'SARIMA Predictions')\n",
    "plt.legend()\n",
    "plt.show()"
   ]
  },
  {
   "cell_type": "code",
   "execution_count": null,
   "metadata": {},
   "outputs": [],
   "source": [
    "arma_rmse = np.sqrt(mean_squared_error(test[\"Close\"].values, y_pred_df[\"Predictions\"]))\n",
    "print(\"SARIMA RMSE: \",arma_rmse)"
   ]
  },
  {
   "cell_type": "code",
   "execution_count": null,
   "metadata": {},
   "outputs": [],
   "source": []
  }
 ],
 "metadata": {
  "kernelspec": {
   "display_name": "Python 3 (ipykernel)",
   "language": "python",
   "name": "python3"
  },
  "language_info": {
   "codemirror_mode": {
    "name": "ipython",
    "version": 3
   },
   "file_extension": ".py",
   "mimetype": "text/x-python",
   "name": "python",
   "nbconvert_exporter": "python",
   "pygments_lexer": "ipython3",
   "version": "3.11.5"
  }
 },
 "nbformat": 4,
 "nbformat_minor": 2
}
