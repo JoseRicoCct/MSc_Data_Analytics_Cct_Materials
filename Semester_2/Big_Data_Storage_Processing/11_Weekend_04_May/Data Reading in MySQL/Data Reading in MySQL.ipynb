{
 "cells": [
  {
   "cell_type": "code",
   "execution_count": null,
   "id": "3a9d6d0c",
   "metadata": {},
   "outputs": [],
   "source": [
    "pip install mysql-connector-python"
   ]
  },
  {
   "cell_type": "code",
   "execution_count": 1,
   "id": "3dc3e205",
   "metadata": {},
   "outputs": [
    {
     "data": {
      "text/plain": [
       "'local[*]'"
      ]
     },
     "execution_count": 1,
     "metadata": {},
     "output_type": "execute_result"
    }
   ],
   "source": [
    "# sc master - running locally\n",
    "sc.master"
   ]
  },
  {
   "cell_type": "code",
   "execution_count": 2,
   "id": "0f3d67db",
   "metadata": {},
   "outputs": [
    {
     "name": "stdout",
     "output_type": "stream",
     "text": [
      "24/05/04 00:08:30 WARN SparkSession: Using an existing Spark session; only runtime SQL configurations will take effect.\n"
     ]
    },
    {
     "name": "stderr",
     "output_type": "stream",
     "text": [
      "/tmp/ipykernel_12075/2539049230.py:18: UserWarning: pandas only supports SQLAlchemy connectable (engine/connection) or database string URI or sqlite3 DBAPI2 connection. Other DBAPI2 objects are not tested. Please consider using SQLAlchemy.\n",
      "  pdf = pd.read_sql(query, con=conn)\n"
     ]
    },
    {
     "data": {
      "text/html": [
       "<div>\n",
       "<style scoped>\n",
       "    .dataframe tbody tr th:only-of-type {\n",
       "        vertical-align: middle;\n",
       "    }\n",
       "\n",
       "    .dataframe tbody tr th {\n",
       "        vertical-align: top;\n",
       "    }\n",
       "\n",
       "    .dataframe thead th {\n",
       "        text-align: right;\n",
       "    }\n",
       "</style>\n",
       "<table border=\"1\" class=\"dataframe\">\n",
       "  <thead>\n",
       "    <tr style=\"text-align: right;\">\n",
       "      <th></th>\n",
       "      <th>YCSB_KEY</th>\n",
       "      <th>FIELD0</th>\n",
       "      <th>FIELD1</th>\n",
       "      <th>FIELD2</th>\n",
       "      <th>FIELD3</th>\n",
       "      <th>FIELD4</th>\n",
       "      <th>FIELD5</th>\n",
       "      <th>FIELD6</th>\n",
       "      <th>FIELD7</th>\n",
       "      <th>FIELD8</th>\n",
       "      <th>FIELD9</th>\n",
       "    </tr>\n",
       "  </thead>\n",
       "  <tbody>\n",
       "    <tr>\n",
       "      <th>0</th>\n",
       "      <td>user1000385178204227360</td>\n",
       "      <td>1\\; \"|/%`#J)*&gt;r/\\o0Is6/n$Dq'4b9Xo:D3=\"d#Qg/3d*...</td>\n",
       "      <td>)88!P5+Xc&gt;Vo1)v644!&gt;t:X'3%j+Be-H?8?.!7r?/$&lt;&gt;~'...</td>\n",
       "      <td>$V7$Yo&amp;9&lt;=78&amp;F?1(n)P-(1t#Qy&gt;[)2Y+!O}\"*65R!'Vc;...</td>\n",
       "      <td>6@o6Om4.&amp;,/&gt;$Gk*Gu!W#%L5!&gt;4 &amp;6$):5V+3(&lt;%;b-(~;...</td>\n",
       "      <td>:?4-[o&gt;;r3Q-&lt;_/!542Am/&gt;d22z/Fy(:2%Nw+L'-;h:Do\"...</td>\n",
       "      <td>!$09&amp;v%G7$T{*6l.=| J3472,Jg&amp;X9&gt;K19'&gt;.\\?1R90Ck2...</td>\n",
       "      <td>//p#?|4!6,B%0Wc?G/-Mk6;z%F#0-~;9.13&lt;+Iu/:.0W?9...</td>\n",
       "      <td>*94=N!8Os*K#6&gt;r/8$1E#0E/3/2 &amp;6:(*$Q/&lt;P58$j&amp;8x7...</td>\n",
       "      <td>+&lt;&gt;=U;=U=(3819p3)b&lt;Pe?Vy-Y%)\"*(@/4W3:;,%Da&amp;/8 ...</td>\n",
       "      <td>=C14Jk:S1)Z;2?$$S76Ts*S7?^a.'j/,&amp;&lt;1*)M'!,.7&gt;t2...</td>\n",
       "    </tr>\n",
       "    <tr>\n",
       "      <th>1</th>\n",
       "      <td>user1000726823498525925</td>\n",
       "      <td>.T',3x:Se#Am!]9 9n93v#(8?M7,Fa70.0;`$Eq#P;61z:...</td>\n",
       "      <td>: b:\\}%['&lt;$|7;* \"n!X+&lt;&lt;29! 01,7Z-5[g')(45h'-z:...</td>\n",
       "      <td>8M=9J-);r+@e!.j#P524z6+,'/&gt;,A' P}*165W}2*,?'&gt;=...</td>\n",
       "      <td>70x?08:H-!I{.Si'1\"5To&amp;X'3Gs;Fe? \"97t (r'G1'\"\"8...</td>\n",
       "      <td>:Ue#B;@#5N)T)9@o&gt;Ow+=t0E9&lt;,:-[#^/#&gt;h3Wc-%01...</td>\n",
       "      <td>01z7' \"Y3 E9#7:0L{&amp;4&gt; Zs9?|37x564&lt;R94]s&amp;$4#00$...</td>\n",
       "      <td>?F7$H6 ,&lt;Ps&gt;X#$R}=:0 %&lt;5$8(Mi1Ks\"'h/A#0%n#Ts3...</td>\n",
       "      <td>&amp;Wa&amp;1v=&gt;p&gt;6 *1z2[q;/&gt;5)(+0\"5Go!A?%%|57l;5j/G#0...</td>\n",
       "      <td>2]7 )2:S{&gt;2l3I78&amp;z=U-0#,(I=&lt;,&gt;*#l'0.&gt;&lt;8(F!-Du?...</td>\n",
       "      <td>2 6$+&amp;*%l:.0,@!,1b.[e/,*+I+9=&gt;54&gt;1-p=(~'=`?.|+...</td>\n",
       "    </tr>\n",
       "    <tr>\n",
       "      <th>2</th>\n",
       "      <td>user1005413005517793606</td>\n",
       "      <td>23,(&gt;&lt;+%p+L=#'65Zk0#d#Mq?Is;C)7#\"-8b+\\m;^9.(j:...</td>\n",
       "      <td>8\\s&amp;&lt;x=!r?^w.Po+2h!Yw/X9+(l:B)7-&gt; L1%#&amp;,1d&amp;G/1...</td>\n",
       "      <td>%D+90(23&lt;==n4V+!Ko&gt;H=8Z??;f?Ak(]5-Kg)%$$Rs(365...</td>\n",
       "      <td>#Y;9*t6E/8!p?7 0&lt;&amp;=/:$Ss&gt;!t&amp;Nq4;&lt;0Gc.%b'N%)0t*...</td>\n",
       "      <td>3M}2Nc6E;$&amp;` I?%:v8:f3[y#349[16!h/\",5C'-U+&gt;U7(...</td>\n",
       "      <td>2=$(@15La7/*!Y99Vq\"@g&gt;$l'Fu3Li6E'=]a&gt;-\")M{%F!4...</td>\n",
       "      <td>89|650%_a&amp;,(1#081:=%h*)4 6 $744$.(;r:=d3_1!3l2...</td>\n",
       "      <td>(J=06(&lt;Ok+Sw#B)8)z.)v/U'!_90Z?6M.U+(E=!86&lt;/*!...</td>\n",
       "      <td>?,x*3j(%t3Jm%3.)&lt; *[a&gt;K&amp;&lt;&gt;(R!+S7-^!%Li;Hw&gt;&gt;.8...</td>\n",
       "      <td>=!l*)h-+z?=:3:25Ky Y1%]c#(`?N34N}/388:d3+.;X7!...</td>\n",
       "    </tr>\n",
       "    <tr>\n",
       "      <th>3</th>\n",
       "      <td>user1005631320735635489</td>\n",
       "      <td>!(,9^;8)&lt;)@/39:(Wy&gt;..1$d*M=8Xw;$\"&lt;&lt;l6,*4[+7^i+...</td>\n",
       "      <td>?Qk\"^'+,$10,40v73*9\"&amp;96 .&lt;z7A3?&gt;n#+&gt;:*~#@y%#,=...</td>\n",
       "      <td>8940Fk?Km&amp;^e*4v.;x5C/ T5-X{&amp;Fk5\"b'#  V}*K/=@y&amp;...</td>\n",
       "      <td>=U343(:?b+9t++,(C#9J7)=\"=D3404!~#He,#z2&amp;&amp;&gt;X/8...</td>\n",
       "      <td>'/p\"%&amp;3]q+.~9_s:.4&lt;? ,C9514)^#/= 5W#9..!&gt;l5?&lt;4...</td>\n",
       "      <td>Ca&gt;Uu\"'\",!z,#|\"Co*[10I?7Q/844=B!8P1 0x:&amp;f2#b:...</td>\n",
       "      <td>Yu#1r:Py:,b%68 _g0S1&lt;Is=(v\"@}\"5$$P?9O3-1v3Zy....</td>\n",
       "      <td>&lt;9r.[g/7.0S;/3h?#4$+d'=f,Q-)J-21h;Pw10&gt;,]m&gt;4d&gt;...</td>\n",
       "      <td>1Pi&amp;Xy'Jk.A%69$(\\q5A91%`)Z\"!`\"4*(6\"2Y-!_7$I--...</td>\n",
       "      <td>&lt;\" )(,7W5-Zs%Ys&amp;\\w&lt;So&amp;I'#$f?Q}&amp;Tw/V'&gt;%2 Ds:S{....</td>\n",
       "    </tr>\n",
       "    <tr>\n",
       "      <th>4</th>\n",
       "      <td>user1010099187537061287</td>\n",
       "      <td>2?61F}+R# F%--r?8~(Bc3Z+*I31T5)\\5!M}='l\"G})/|&amp;...</td>\n",
       "      <td>6N'(3b\"\"d&gt;A%$=l?6|*/*-^u&gt;\\+):4#I%&lt;&gt; #H7 Gc#H70...</td>\n",
       "      <td>/X-)423[}/5&lt;=,4--2$#*(%v78f\".~&lt;^5$U-#[q;E+&lt;)r3...</td>\n",
       "      <td>'Ee&gt;$n8V/1H'2C=!P&amp;4.4-&gt;?X'1M!9+v2?$&amp;;.)Wo&lt;Ig/...</td>\n",
       "      <td>-/2=R?/5j*$r&amp;&gt;v'&amp;x9C+4.\"(*,9Ce8Tq&gt;O{\"Iu#^1-(r#...</td>\n",
       "      <td>=K;-]9%.49$&amp;:;d2/(-L5%Ci*J#1Oi.:,&lt;1*7,20^%7#z'...</td>\n",
       "      <td>&gt;7f3$8 =z#$6*&lt;n2 $2%,  z!840T%9.0$3*8?v*R9=Ak?...</td>\n",
       "      <td>,9&lt; ^c/8~7;d,7b;Ce%W{&amp;: $!$-8v)X{7&lt;\".E{;\"l30b/...</td>\n",
       "      <td>$K50705!$%F;.I+ 'h65&lt;4*n53&lt;89,5F/(K%G-(0t9A}:...</td>\n",
       "      <td>:Re6&gt;t'&lt; 8_w;Rq6G)+Pa\"'v2Yk:K1+U{*&amp;&amp;;P%03(3&gt; 9...</td>\n",
       "    </tr>\n",
       "  </tbody>\n",
       "</table>\n",
       "</div>"
      ],
      "text/plain": [
       "                  YCSB_KEY                                             FIELD0  \\\n",
       "0  user1000385178204227360  1\\; \"|/%`#J)*>r/\\o0Is6/n$Dq'4b9Xo:D3=\"d#Qg/3d*...   \n",
       "1  user1000726823498525925  .T',3x:Se#Am!]9 9n93v#(8?M7,Fa70.0;`$Eq#P;61z:...   \n",
       "2  user1005413005517793606  23,(><+%p+L=#'65Zk0#d#Mq?Is;C)7#\"-8b+\\m;^9.(j:...   \n",
       "3  user1005631320735635489  !(,9^;8)<)@/39:(Wy>..1$d*M=8Xw;$\"<<l6,*4[+7^i+...   \n",
       "4  user1010099187537061287  2?61F}+R# F%--r?8~(Bc3Z+*I31T5)\\5!M}='l\"G})/|&...   \n",
       "\n",
       "                                              FIELD1  \\\n",
       "0  )88!P5+Xc>Vo1)v644!>t:X'3%j+Be-H?8?.!7r?/$<>~'...   \n",
       "1  : b:\\}%['<$|7;* \"n!X+<<29! 01,7Z-5[g')(45h'-z:...   \n",
       "2  8\\s&<x=!r?^w.Po+2h!Yw/X9+(l:B)7-> L1%#&,1d&G/1...   \n",
       "3  ?Qk\"^'+,$10,40v73*9\"&96 .<z7A3?>n#+>:*~#@y%#,=...   \n",
       "4  6N'(3b\"\"d>A%$=l?6|*/*-^u>\\+):4#I%<> #H7 Gc#H70...   \n",
       "\n",
       "                                              FIELD2  \\\n",
       "0  $V7$Yo&9<=78&F?1(n)P-(1t#Qy>[)2Y+!O}\"*65R!'Vc;...   \n",
       "1  8M=9J-);r+@e!.j#P524z6+,'/>,A' P}*165W}2*,?'>=...   \n",
       "2  %D+90(23<==n4V+!Ko>H=8Z??;f?Ak(]5-Kg)%$$Rs(365...   \n",
       "3  8940Fk?Km&^e*4v.;x5C/ T5-X{&Fk5\"b'#  V}*K/=@y&...   \n",
       "4  /X-)423[}/5<=,4--2$#*(%v78f\".~<^5$U-#[q;E+<)r3...   \n",
       "\n",
       "                                              FIELD3  \\\n",
       "0  6@o6Om4.&,/>$Gk*Gu!W#%L5!>4 &6$):5V+3(<%;b-(~;...   \n",
       "1  70x?08:H-!I{.Si'1\"5To&X'3Gs;Fe? \"97t (r'G1'\"\"8...   \n",
       "2  #Y;9*t6E/8!p?7 0<&=/:$Ss>!t&Nq4;<0Gc.%b'N%)0t*...   \n",
       "3  =U343(:?b+9t++,(C#9J7)=\"=D3404!~#He,#z2&&>X/8...   \n",
       "4  'Ee>$n8V/1H'2C=!P&4.4->?X'1M!9+v2?$&;.)Wo<Ig/...   \n",
       "\n",
       "                                              FIELD4  \\\n",
       "0  :?4-[o>;r3Q-<_/!542Am/>d22z/Fy(:2%Nw+L'-;h:Do\"...   \n",
       "1  :Ue#B;@#5N)T)9@o>Ow+=t0E9<,:-[#^/#>h3Wc-%01...   \n",
       "2  3M}2Nc6E;$&` I?%:v8:f3[y#349[16!h/\",5C'-U+>U7(...   \n",
       "3  '/p\"%&3]q+.~9_s:.4<? ,C9514)^#/= 5W#9..!>l5?<4...   \n",
       "4  -/2=R?/5j*$r&>v'&x9C+4.\"(*,9Ce8Tq>O{\"Iu#^1-(r#...   \n",
       "\n",
       "                                              FIELD5  \\\n",
       "0  !$09&v%G7$T{*6l.=| J3472,Jg&X9>K19'>.\\?1R90Ck2...   \n",
       "1  01z7' \"Y3 E9#7:0L{&4> Zs9?|37x564<R94]s&$4#00$...   \n",
       "2  2=$(@15La7/*!Y99Vq\"@g>$l'Fu3Li6E'=]a>-\")M{%F!4...   \n",
       "3   Ca>Uu\"'\",!z,#|\"Co*[10I?7Q/844=B!8P1 0x:&f2#b:...   \n",
       "4  =K;-]9%.49$&:;d2/(-L5%Ci*J#1Oi.:,<1*7,20^%7#z'...   \n",
       "\n",
       "                                              FIELD6  \\\n",
       "0  //p#?|4!6,B%0Wc?G/-Mk6;z%F#0-~;9.13<+Iu/:.0W?9...   \n",
       "1  ?F7$H6 ,<Ps>X#$R}=:0 %<5$8(Mi1Ks\"'h/A#0%n#Ts3...   \n",
       "2  89|650%_a&,(1#081:=%h*)4 6 $744$.(;r:=d3_1!3l2...   \n",
       "3   Yu#1r:Py:,b%68 _g0S1<Is=(v\"@}\"5$$P?9O3-1v3Zy....   \n",
       "4  >7f3$8 =z#$6*<n2 $2%,  z!840T%9.0$3*8?v*R9=Ak?...   \n",
       "\n",
       "                                              FIELD7  \\\n",
       "0  *94=N!8Os*K#6>r/8$1E#0E/3/2 &6:(*$Q/<P58$j&8x7...   \n",
       "1  &Wa&1v=>p>6 *1z2[q;/>5)(+0\"5Go!A?%%|57l;5j/G#0...   \n",
       "2  (J=06(<Ok+Sw#B)8)z.)v/U'!_90Z?6M.U+(E=!86</*!...   \n",
       "3  <9r.[g/7.0S;/3h?#4$+d'=f,Q-)J-21h;Pw10>,]m>4d>...   \n",
       "4  ,9< ^c/8~7;d,7b;Ce%W{&: $!$-8v)X{7<\".E{;\"l30b/...   \n",
       "\n",
       "                                              FIELD8  \\\n",
       "0  +<>=U;=U=(3819p3)b<Pe?Vy-Y%)\"*(@/4W3:;,%Da&/8 ...   \n",
       "1  2]7 )2:S{>2l3I78&z=U-0#,(I=<,>*#l'0.><8(F!-Du?...   \n",
       "2  ?,x*3j(%t3Jm%3.)< *[a>K&<>(R!+S7-^!%Li;Hw>>.8...   \n",
       "3  1Pi&Xy'Jk.A%69$(\\q5A91%`)Z\"!`\"4*(6\"2Y-!_7$I--...   \n",
       "4  $K50705!$%F;.I+ 'h65<4*n53<89,5F/(K%G-(0t9A}:...   \n",
       "\n",
       "                                              FIELD9  \n",
       "0  =C14Jk:S1)Z;2?$$S76Ts*S7?^a.'j/,&<1*)M'!,.7>t2...  \n",
       "1  2 6$+&*%l:.0,@!,1b.[e/,*+I+9=>54>1-p=(~'=`?.|+...  \n",
       "2  =!l*)h-+z?=:3:25Ky Y1%]c#(`?N34N}/388:d3+.;X7!...  \n",
       "3  <\" )(,7W5-Zs%Ys&\\w<So&I'#$f?Q}&Tw/V'>%2 Ds:S{....  \n",
       "4  :Re6>t'< 8_w;Rq6G)+Pa\"'v2Yk:K1+U{*&&;P%03(3> 9...  "
      ]
     },
     "execution_count": 2,
     "metadata": {},
     "output_type": "execute_result"
    }
   ],
   "source": [
    "import mysql.connector\n",
    "import pandas as pd\n",
    "from pyspark.sql import SparkSession\n",
    "\n",
    "appName = \"PySpark MySQL Example - via mysql.connector\"\n",
    "master = \"local\"\n",
    "\n",
    "spark = SparkSession.builder.master(master).appName(appName).getOrCreate()\n",
    "\n",
    "# Establish a connection\n",
    "conn = mysql.connector.connect(user='root', database='BenchTest',\n",
    "                               password='password',\n",
    "                               host=\"localhost\",\n",
    "                               port=3306)\n",
    "cursor = conn.cursor()\n",
    "query = \"SELECT * FROM usertable\"\n",
    "# Create a pandas dataframe\n",
    "pdf = pd.read_sql(query, con=conn)\n",
    "conn.close()\n",
    "\n",
    "pdf.head()"
   ]
  },
  {
   "cell_type": "code",
   "execution_count": 3,
   "id": "31f29dcb",
   "metadata": {},
   "outputs": [
    {
     "name": "stdout",
     "output_type": "stream",
     "text": [
      "StructType([StructField('YCSB_KEY', StringType(), True), StructField('FIELD0', StringType(), True), StructField('FIELD1', StringType(), True), StructField('FIELD2', StringType(), True), StructField('FIELD3', StringType(), True), StructField('FIELD4', StringType(), True), StructField('FIELD5', StringType(), True), StructField('FIELD6', StringType(), True), StructField('FIELD7', StringType(), True), StructField('FIELD8', StringType(), True), StructField('FIELD9', StringType(), True)])\n"
     ]
    }
   ],
   "source": [
    "from pyspark.sql.types import StructType, StructField, StringType, IntegerType\n",
    "\n",
    "# Define the schema\n",
    "schema = StructType([\n",
    "    StructField(\"YCSB_KEY\", StringType(), True),\n",
    "    StructField(\"FIELD0\", StringType(), True),\n",
    "    StructField(\"FIELD1\", StringType(), True),\n",
    "    StructField(\"FIELD2\", StringType(), True),\n",
    "    StructField(\"FIELD3\", StringType(), True),\n",
    "    StructField(\"FIELD4\", StringType(), True),\n",
    "    StructField(\"FIELD5\", StringType(), True),\n",
    "    StructField(\"FIELD6\", StringType(), True),\n",
    "    StructField(\"FIELD7\", StringType(), True),\n",
    "    StructField(\"FIELD8\", StringType(), True),\n",
    "    StructField(\"FIELD9\", StringType(), True)\n",
    "])\n",
    "\n",
    "# Print the schema\n",
    "print(schema)"
   ]
  },
  {
   "cell_type": "code",
   "execution_count": null,
   "id": "2dcf6591",
   "metadata": {},
   "outputs": [],
   "source": [
    "%pip install -U pandas==1.5.3"
   ]
  },
  {
   "cell_type": "code",
   "execution_count": 4,
   "id": "359e14e8",
   "metadata": {},
   "outputs": [
    {
     "name": "stderr",
     "output_type": "stream",
     "text": [
      "/usr/local/spark/python/pyspark/sql/pandas/conversion.py:486: FutureWarning: iteritems is deprecated and will be removed in a future version. Use .items instead.\n",
      "  for column, series in pdf.iteritems():\n"
     ]
    },
    {
     "name": "stdout",
     "output_type": "stream",
     "text": [
      "+--------------------+--------------------+--------------------+--------------------+--------------------+--------------------+--------------------+--------------------+--------------------+--------------------+--------------------+\n",
      "|            YCSB_KEY|              FIELD0|              FIELD1|              FIELD2|              FIELD3|              FIELD4|              FIELD5|              FIELD6|              FIELD7|              FIELD8|              FIELD9|\n",
      "+--------------------+--------------------+--------------------+--------------------+--------------------+--------------------+--------------------+--------------------+--------------------+--------------------+--------------------+\n",
      "|user1000385178204...|1\\; \"|/%`#J)*>r/\\...|)88!P5+Xc>Vo1)v64...|$V7$Yo&9<=78&F?1(...|6@o6Om4.&,/>$Gk*G...|:?4-[o>;r3Q-<_/!5...|!$09&v%G7$T{*6l.=...|//p#?|4!6,B%0Wc?G...|*94=N!8Os*K#6>r/8...|+<>=U;=U=(3819p3)...|=C14Jk:S1)Z;2?$$S...|\n",
      "|user1000726823498...|.T',3x:Se#Am!]9 9...|: b:\\}%['<$|7;* \"...|8M=9J-);r+@e!.j#P...|70x?08:H-!I{.Si'1...|:Ue#B;@#5N)T)9@...|01z7' \"Y3 E9#7:0L...|?F7$H6 ,<Ps>X#$R...|&Wa&1v=>p>6 *1z2[...|2]7 )2:S{>2l3I78&...|2 6$+&*%l:.0,@!,1...|\n",
      "|user1005413005517...|23,(><+%p+L=#'65Z...|8\\s&<x=!r?^w.Po+2...|%D+90(23<==n4V+!K...|#Y;9*t6E/8!p?7 0<...|3M}2Nc6E;$&` I?%:...|2=$(@15La7/*!Y99V...|89|650%_a&,(1#081...|(J=06(<Ok+Sw#B)8)...|?,x*3j(%t3Jm%3.)<...|=!l*)h-+z?=:3:25K...|\n",
      "|user1005631320735...|!(,9^;8)<)@/39:(W...|?Qk\"^'+,$10,40v73...|8940Fk?Km&^e*4v.;...|=U343(:?b+9t++,(C...|'/p\"%&3]q+.~9_s:....| Ca>Uu\"'\",!z,#|\"C...| Yu#1r:Py:,b%68 _...|<9r.[g/7.0S;/3h?#...|1Pi&Xy'Jk.A%69$(\\...|<\" )(,7W5-Zs%Ys&\\...|\n",
      "|user1010099187537...|2?61F}+R# F%--r?8...|6N'(3b\"\"d>A%$=l?6...|/X-)423[}/5<=,4--...|'Ee>$n8V/1H'2C=!P...|-/2=R?/5j*$r&>v'&...|=K;-]9%.49$&:;d2/...|>7f3$8 =z#$6*<n2 ...|,9< ^c/8~7;d,7b;C...|$K50705!$%F;.I+ '...|:Re6>t'< 8_w;Rq6G...|\n",
      "|user1015345330068...| W.0 82,13d1-x2B...|#Zi>$\":.,(6 ?$|*!...|2Qs2925'h7X}7R!=^...|=%~+Ji+/6!8j-Ag7F...|\"A{'E351v?J%41|\"#...|5Io&'f9Je?R9/\\3)$...|'H)-1d71z*C17_1(G...|27p'Q{)J',9v78r+^...|<E5(+&%!*%Dy*Jc/9...|&$l#V?(0\"5Xq&6>4[...|\n",
      "|user1096402211991...|3Vk'Us.A%4>&)L}>!...|26l.O!16r6As(-08:...|+\\5(;<1Na:6`8& ,!...|9Ow\"^/5#&!.6?Ws>U...|!$n27~&:l+?6)Iy/T...|/Ju*^;7]7=7x/4b?$...|2.,<@e17,,Y+-V70H...|.L+!K} Bq31<4We.L...|;1b24&$Oe;[m=Zg6_...|7X- O;4. ,5\"0=d/[...|\n",
      "|user1101088394010...|,W#,W9&2x>)\"1;h;D...|6=`/G;0Q%<1*&Bw>$...|?9x>]%:Y?,4426 1H...|:)$%Ta%Ja''|%C5(*...| Xm3Yu0<h3-p69p>O...|*L/5_1' , #4?C79]...|:(z/&6;!b\"*n%'d>X...|(+,4S->O'<Ku,<6-S...|#*j.Iu+ j2F7,&`&Z...|-J')#09P7!L/-.n?R...|\n",
      "|user1101648354522...|8By/'d5P9,Y*Ru+N...|.B)82l>#:)O=32$ 7...|*R+,[g66n7Wu-*.8B...|<G59\"h=(r?R-2=$$<...|=Nk\"A9/Z?)N9(P=,0...|)Qq3@m,R%0!$#<b*+...|!:p>@':Us?Iq)[7=8...|!(.8S!&K!82j(5d*%...| :<$+b;1:0Uo1=4([...|4_?%O=-J}&M)#S1$#...|\n",
      "|user1105774576029...|'9|?#`%+f7Lk$Ak\"'...|=Gs&%$=Ws;0r+Sc;[...|\"L#0Q+4*`#M%7[3,6...|<I5%.x<&*8[/-Je*&...|>.&9:0;;b&^/\"\\+$K...|4!:!Du59z7R377$ 1...|#(8!+$$.2 R':\\) ?...|>50$/|13t;^7:-r/:...|?La2Bk>96<Ng!.& K...|'52,Nu*&<$Ve:6d/F...|\n",
      "|user1106334536542...|1Rs:;~)92)1:!8n7A...|*;2-U737r/)p2221>...|0*z6/b/Wk/I)*C1)4...|1(f'W13_%-$v,;`3/...|:#z&+n1+\"1U78>l#8...|8B/<Ci'Ak?-z80,$\\...|/?x;Pc5($,4p.$.4H...|<9 =Gg(Ca3/n$>p7<...|&&|+Du%Z74Wi':.14...|8\\594&(Qe*2b6*r.>...|\n",
      "|user1111580679073...|$Z'%]!1:2<Sg=Q)46...|0R+5C5.,b:V{7&< R...|)Q?(Ym6Gy#,:3M3<1...|3^59D!&_;4Wi;Yu2/...|>\\s;]2Fq7R''!b;:...|,P!%<x0Z{:,:06&$M...|%'(5Ws6S{6%6 2d*;...|4<<-5(41.1Ya34f&J...|;Ls?*f&Wk+)n*L?!M...|8*&==6!',!Rm!#z;O...|\n",
      "|user1116048545874...|/(`6Ha  v\">`\"<z3Z...|;!d&K7,C)852)2j+)...|1Bo\"Ak K{>A+!;:([...|4;z.\\%(4,89:'Cq7Y...|>>~/Uy;0&9T#8Us6'...|$3`2Hy=#j*/\"<V+,W...|,*d;S95Vk&2>8R{+>...|32~7N?=L!1G'']!)*...|:L%=F35%2%>x4<6(*...|=!<1I58=&)= 'F!59...|\n",
      "|user1116266861092...|/Ju.Zq08|.F'7Qk;^...|<^e2(4)Ve;9l:*x#\"...|/O7(&.=2l3Iq81$1+...|*P5!X{=> 1Y!>D'49...|7Fo6Iu)>v\"Cw9/<41...|7Zc>;242,8J7)X/(8...|%L/$Ck/7|?(p*($=Z...|+%h20z-W9=**-\\c?@...|:0x?#j7Rq;6t%Q14V...|>M#=Eo*;$)#v!.01A...|\n",
      "|user1121294688406...|2$j#H+1Sy&O!*Ds+Z...|$@%)(z$( 1]m$K714...|=;~*V=5D)1)v1=~+%...|0Jm:I+&8x>\"0*12<M...|3@'0Uw/**!@m0N%,)...|(F{?/v% :94 4F}'Z...|%R/!2|#^#%M+(+n.I...|0,>4U'6\\k2B!7@i30...|0Tg7!h,1&(Hc0V%)^...|%%x6+l4;r*Qw=H7$(...|\n",
      "|user1125980870425...|\"P?5I{-E=(2:(P{/>...|3:p:^i%R5=[{7Vw&S...|1F?57,2<t/\\g)X{'U...|$P;!?l2D}/K1<2$5'...|7W9 ?27N;58.7G318...|/R)1<l41x*'*%>r?^...|$A--'r+;,8Ri\"5 (=...|?6~&$8.[u:N{ /81\\...|;,*8Pu\" \"=He/Yi\"B...|)!r#- 2S5-P3\"C1, ...|\n",
      "|user1211723934367...|?78 _!\"2r3#05B#(S...|= 2 -01 8!Gu>Mk\"3...|<C/!#t5:x;#>1!0!#...|8/0$L3:,~*Z-% :(5...|:\" (G5-F?8(>:+h._...|;#n.Lq*G+4S57+.($...|,-68F+:N'9L#,Y3)9...|0G/)Iy,;l'Oc,\"z3\\...|>R9)\"x.G%,1\"(D1!J...|6 d*_'+'~.^e,#z*W...|\n",
      "|user1222216219430...|!Ge/@q!A=!2z,Nc.R...|00>(S}(W'0_59.t\" ...|(K#\\-$Nw+Q9*,b+\"...|0,.)> ;Hs\"Am>\"20S...|.!h.J?*04V1 T=9-...|&Z=9,`2F349n/:<(A...|9;6<Fw4Tm\"X9\"5 <M...|77b:8r%>|>Wo\"4&(W...|-&b?J}4Ts3&x'@; G...|4#x:\\i'3n;W542~?....|\n",
      "|user1226902401449...|:B)1?&>J1(?|(@'4?...|?->,\">/]i6 :5?4!_...|>/ 5M#)Ik;>t2;*=<...|2*2(Su K{&H;'Ke#3...|-#  ^{1T348861<$C...|;H98O1\"4b2#0$]g*M...|14603z$5,(H%Ug6B...|)4*<]s?Us\")48/41*...|/Pk7_}8F{3Hm&.&8U...|?K)![/;+$8D3=.:9=...|\n",
      "|user1231588583469...|&2t;1~,=t23b%@-<X...|#Gk>?>7X;!\"`:Ae+S...|75|+H',E;4Zo6Nw6Y...|#Ya#6n2B'4/b+Yi'C...|+2\"1\"`>T{?:.*@1( ...|<><,%j%:h;6r3Vq\"N...| A7%Ii9F=(>t(U+0^...|8Oe'(h1&n.F5.J?!6...|1Ds.G!!B? 8<._%9I...|;!(--.):v3Ri)[i\"W...|\n",
      "+--------------------+--------------------+--------------------+--------------------+--------------------+--------------------+--------------------+--------------------+--------------------+--------------------+--------------------+\n",
      "only showing top 20 rows\n",
      "\n"
     ]
    },
    {
     "name": "stderr",
     "output_type": "stream",
     "text": [
      "\r",
      "[Stage 0:>                                                          (0 + 1) / 1]\r",
      "\r",
      "                                                                                \r"
     ]
    }
   ],
   "source": [
    "# Assuming spark is your SparkSession object\n",
    "\n",
    "# Convert Pandas DataFrame to Spark DataFrame\n",
    "df = spark.createDataFrame(pdf, schema=schema)\n",
    "\n",
    "df.show()\n"
   ]
  }
 ],
 "metadata": {
  "kernelspec": {
   "display_name": "Python 3 (ipykernel)",
   "language": "python",
   "name": "python3"
  },
  "language_info": {
   "codemirror_mode": {
    "name": "ipython",
    "version": 3
   },
   "file_extension": ".py",
   "mimetype": "text/x-python",
   "name": "python",
   "nbconvert_exporter": "python",
   "pygments_lexer": "ipython3",
   "version": "3.11.5"
  }
 },
 "nbformat": 4,
 "nbformat_minor": 5
}
